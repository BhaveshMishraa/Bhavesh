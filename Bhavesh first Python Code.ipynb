{
 "cells": [
  {
   "cell_type": "markdown",
   "id": "844a0068",
   "metadata": {},
   "source": [
    "# First Command"
   ]
  },
  {
   "cell_type": "code",
   "execution_count": 1,
   "id": "64eeefbb",
   "metadata": {},
   "outputs": [
    {
     "name": "stdout",
     "output_type": "stream",
     "text": [
      "Hello World\n"
     ]
    }
   ],
   "source": [
    "print(\"Hello World\")"
   ]
  },
  {
   "cell_type": "code",
   "execution_count": 3,
   "id": "c789a338",
   "metadata": {},
   "outputs": [
    {
     "name": "stdout",
     "output_type": "stream",
     "text": [
      "Bhavesh Mishra\n"
     ]
    }
   ],
   "source": [
    "print (\"Bhavesh Mishra\")"
   ]
  },
  {
   "cell_type": "markdown",
   "id": "1a83b199",
   "metadata": {},
   "source": [
    "# Creating Variable"
   ]
  },
  {
   "cell_type": "code",
   "execution_count": 2,
   "id": "f2832cd5",
   "metadata": {},
   "outputs": [
    {
     "name": "stdout",
     "output_type": "stream",
     "text": [
      "Welcome to the data science\n"
     ]
    }
   ],
   "source": [
    "hello= \"Welcome to the data science\"\n",
    "print (hello)"
   ]
  },
  {
   "cell_type": "code",
   "execution_count": 4,
   "id": "b91ce1b4",
   "metadata": {},
   "outputs": [
    {
     "name": "stdout",
     "output_type": "stream",
     "text": [
      "PG Program in Data Science and Machine Learning\n"
     ]
    }
   ],
   "source": [
    "hello=\"PG Program in Data Science and Machine Learning\"\n",
    "print(hello)"
   ]
  },
  {
   "cell_type": "code",
   "execution_count": 5,
   "id": "13602b5c",
   "metadata": {},
   "outputs": [
    {
     "name": "stdout",
     "output_type": "stream",
     "text": [
      "35\n"
     ]
    }
   ],
   "source": [
    "x=20\n",
    "y=15\n",
    "print(x+y)"
   ]
  },
  {
   "cell_type": "code",
   "execution_count": null,
   "id": "09fb2d4e",
   "metadata": {},
   "outputs": [],
   "source": []
  }
 ],
 "metadata": {
  "kernelspec": {
   "display_name": "Python 3 (ipykernel)",
   "language": "python",
   "name": "python3"
  },
  "language_info": {
   "codemirror_mode": {
    "name": "ipython",
    "version": 3
   },
   "file_extension": ".py",
   "mimetype": "text/x-python",
   "name": "python",
   "nbconvert_exporter": "python",
   "pygments_lexer": "ipython3",
   "version": "3.10.9"
  }
 },
 "nbformat": 4,
 "nbformat_minor": 5
}
